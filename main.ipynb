{
  "nbformat": 4,
  "nbformat_minor": 0,
  "metadata": {
    "colab": {
      "provenance": [],
      "collapsed_sections": [],
      "authorship_tag": "ABX9TyOF2aINw65qaYXLtoiao9aA",
      "include_colab_link": true
    },
    "kernelspec": {
      "name": "python3",
      "display_name": "Python 3"
    },
    "language_info": {
      "name": "python"
    },
    "gpuClass": "standard"
  },
  "cells": [
    {
      "cell_type": "markdown",
      "metadata": {
        "id": "view-in-github",
        "colab_type": "text"
      },
      "source": [
        "<a href=\"https://colab.research.google.com/github/enzoephrem/TumorSeg/blob/main/main.ipynb\" target=\"_parent\"><img src=\"https://colab.research.google.com/assets/colab-badge.svg\" alt=\"Open In Colab\"/></a>"
      ]
    },
    {
      "cell_type": "markdown",
      "source": [
        "## Import libraries"
      ],
      "metadata": {
        "id": "5LcLOzprA-7g"
      }
    },
    {
      "cell_type": "code",
      "source": [
        "# Required to install medpy package\n",
        "!pip install medpy"
      ],
      "metadata": {
        "id": "tnk53eSs7Tm7"
      },
      "execution_count": null,
      "outputs": []
    },
    {
      "cell_type": "code",
      "execution_count": null,
      "metadata": {
        "id": "rvcGaMVHLhqE"
      },
      "outputs": [],
      "source": [
        "import os\n",
        "import numpy as np\n",
        "import nibabel as nib\n",
        "import numpy as np\n",
        "import random\n",
        "import matplotlib.pyplot as plt\n",
        "from matplotlib.widgets import Slider, Cursor\n",
        "import skimage.io as io\n",
        "from math import ceil"
      ]
    },
    {
      "cell_type": "markdown",
      "source": [
        "## Import your data"
      ],
      "metadata": {
        "id": "i0jaZJBhwawh"
      }
    },
    {
      "cell_type": "markdown",
      "source": [
        "Upload kaggle.json to your Colab project: for instance, you can import `files` module from `google.colab`, and call `upload()` to launch a File Upload dialog and select the kaggle.json from your local machine."
      ],
      "metadata": {
        "id": "i0FAsXTY1zux"
      }
    },
    {
      "cell_type": "code",
      "source": [
        "from google.colab import files\n",
        "API_key = files.upload()"
      ],
      "metadata": {
        "colab": {
          "base_uri": "https://localhost:8080/",
          "height": 69
        },
        "id": "hdVLZzVMwrst",
        "outputId": "67e96fee-8aff-425b-d344-9a1732db644b"
      },
      "execution_count": null,
      "outputs": [
        {
          "output_type": "display_data",
          "data": {
            "text/plain": [
              "<IPython.core.display.HTML object>"
            ],
            "text/html": [
              "\n",
              "     <input type=\"file\" id=\"files-f047e121-823d-4681-8630-84ed0e45f251\" name=\"files[]\" multiple disabled\n",
              "        style=\"border:none\" />\n",
              "     <output id=\"result-f047e121-823d-4681-8630-84ed0e45f251\">\n",
              "      Upload widget is only available when the cell has been executed in the\n",
              "      current browser session. Please rerun this cell to enable.\n",
              "      </output>\n",
              "      <script>// Copyright 2017 Google LLC\n",
              "//\n",
              "// Licensed under the Apache License, Version 2.0 (the \"License\");\n",
              "// you may not use this file except in compliance with the License.\n",
              "// You may obtain a copy of the License at\n",
              "//\n",
              "//      http://www.apache.org/licenses/LICENSE-2.0\n",
              "//\n",
              "// Unless required by applicable law or agreed to in writing, software\n",
              "// distributed under the License is distributed on an \"AS IS\" BASIS,\n",
              "// WITHOUT WARRANTIES OR CONDITIONS OF ANY KIND, either express or implied.\n",
              "// See the License for the specific language governing permissions and\n",
              "// limitations under the License.\n",
              "\n",
              "/**\n",
              " * @fileoverview Helpers for google.colab Python module.\n",
              " */\n",
              "(function(scope) {\n",
              "function span(text, styleAttributes = {}) {\n",
              "  const element = document.createElement('span');\n",
              "  element.textContent = text;\n",
              "  for (const key of Object.keys(styleAttributes)) {\n",
              "    element.style[key] = styleAttributes[key];\n",
              "  }\n",
              "  return element;\n",
              "}\n",
              "\n",
              "// Max number of bytes which will be uploaded at a time.\n",
              "const MAX_PAYLOAD_SIZE = 100 * 1024;\n",
              "\n",
              "function _uploadFiles(inputId, outputId) {\n",
              "  const steps = uploadFilesStep(inputId, outputId);\n",
              "  const outputElement = document.getElementById(outputId);\n",
              "  // Cache steps on the outputElement to make it available for the next call\n",
              "  // to uploadFilesContinue from Python.\n",
              "  outputElement.steps = steps;\n",
              "\n",
              "  return _uploadFilesContinue(outputId);\n",
              "}\n",
              "\n",
              "// This is roughly an async generator (not supported in the browser yet),\n",
              "// where there are multiple asynchronous steps and the Python side is going\n",
              "// to poll for completion of each step.\n",
              "// This uses a Promise to block the python side on completion of each step,\n",
              "// then passes the result of the previous step as the input to the next step.\n",
              "function _uploadFilesContinue(outputId) {\n",
              "  const outputElement = document.getElementById(outputId);\n",
              "  const steps = outputElement.steps;\n",
              "\n",
              "  const next = steps.next(outputElement.lastPromiseValue);\n",
              "  return Promise.resolve(next.value.promise).then((value) => {\n",
              "    // Cache the last promise value to make it available to the next\n",
              "    // step of the generator.\n",
              "    outputElement.lastPromiseValue = value;\n",
              "    return next.value.response;\n",
              "  });\n",
              "}\n",
              "\n",
              "/**\n",
              " * Generator function which is called between each async step of the upload\n",
              " * process.\n",
              " * @param {string} inputId Element ID of the input file picker element.\n",
              " * @param {string} outputId Element ID of the output display.\n",
              " * @return {!Iterable<!Object>} Iterable of next steps.\n",
              " */\n",
              "function* uploadFilesStep(inputId, outputId) {\n",
              "  const inputElement = document.getElementById(inputId);\n",
              "  inputElement.disabled = false;\n",
              "\n",
              "  const outputElement = document.getElementById(outputId);\n",
              "  outputElement.innerHTML = '';\n",
              "\n",
              "  const pickedPromise = new Promise((resolve) => {\n",
              "    inputElement.addEventListener('change', (e) => {\n",
              "      resolve(e.target.files);\n",
              "    });\n",
              "  });\n",
              "\n",
              "  const cancel = document.createElement('button');\n",
              "  inputElement.parentElement.appendChild(cancel);\n",
              "  cancel.textContent = 'Cancel upload';\n",
              "  const cancelPromise = new Promise((resolve) => {\n",
              "    cancel.onclick = () => {\n",
              "      resolve(null);\n",
              "    };\n",
              "  });\n",
              "\n",
              "  // Wait for the user to pick the files.\n",
              "  const files = yield {\n",
              "    promise: Promise.race([pickedPromise, cancelPromise]),\n",
              "    response: {\n",
              "      action: 'starting',\n",
              "    }\n",
              "  };\n",
              "\n",
              "  cancel.remove();\n",
              "\n",
              "  // Disable the input element since further picks are not allowed.\n",
              "  inputElement.disabled = true;\n",
              "\n",
              "  if (!files) {\n",
              "    return {\n",
              "      response: {\n",
              "        action: 'complete',\n",
              "      }\n",
              "    };\n",
              "  }\n",
              "\n",
              "  for (const file of files) {\n",
              "    const li = document.createElement('li');\n",
              "    li.append(span(file.name, {fontWeight: 'bold'}));\n",
              "    li.append(span(\n",
              "        `(${file.type || 'n/a'}) - ${file.size} bytes, ` +\n",
              "        `last modified: ${\n",
              "            file.lastModifiedDate ? file.lastModifiedDate.toLocaleDateString() :\n",
              "                                    'n/a'} - `));\n",
              "    const percent = span('0% done');\n",
              "    li.appendChild(percent);\n",
              "\n",
              "    outputElement.appendChild(li);\n",
              "\n",
              "    const fileDataPromise = new Promise((resolve) => {\n",
              "      const reader = new FileReader();\n",
              "      reader.onload = (e) => {\n",
              "        resolve(e.target.result);\n",
              "      };\n",
              "      reader.readAsArrayBuffer(file);\n",
              "    });\n",
              "    // Wait for the data to be ready.\n",
              "    let fileData = yield {\n",
              "      promise: fileDataPromise,\n",
              "      response: {\n",
              "        action: 'continue',\n",
              "      }\n",
              "    };\n",
              "\n",
              "    // Use a chunked sending to avoid message size limits. See b/62115660.\n",
              "    let position = 0;\n",
              "    do {\n",
              "      const length = Math.min(fileData.byteLength - position, MAX_PAYLOAD_SIZE);\n",
              "      const chunk = new Uint8Array(fileData, position, length);\n",
              "      position += length;\n",
              "\n",
              "      const base64 = btoa(String.fromCharCode.apply(null, chunk));\n",
              "      yield {\n",
              "        response: {\n",
              "          action: 'append',\n",
              "          file: file.name,\n",
              "          data: base64,\n",
              "        },\n",
              "      };\n",
              "\n",
              "      let percentDone = fileData.byteLength === 0 ?\n",
              "          100 :\n",
              "          Math.round((position / fileData.byteLength) * 100);\n",
              "      percent.textContent = `${percentDone}% done`;\n",
              "\n",
              "    } while (position < fileData.byteLength);\n",
              "  }\n",
              "\n",
              "  // All done.\n",
              "  yield {\n",
              "    response: {\n",
              "      action: 'complete',\n",
              "    }\n",
              "  };\n",
              "}\n",
              "\n",
              "scope.google = scope.google || {};\n",
              "scope.google.colab = scope.google.colab || {};\n",
              "scope.google.colab._files = {\n",
              "  _uploadFiles,\n",
              "  _uploadFilesContinue,\n",
              "};\n",
              "})(self);\n",
              "</script> "
            ]
          },
          "metadata": {}
        },
        {
          "output_type": "stream",
          "name": "stdout",
          "text": [
            "Saving kaggle.json to kaggle.json\n"
          ]
        }
      ]
    },
    {
      "cell_type": "markdown",
      "source": [
        "Update `KAGGLE_CONFIG_DIR` path to the current working directory. You can run `!pwd` to get the current working directory and assign the value to `os.environ['KAGGLE_CONFIG_DIR']` :"
      ],
      "metadata": {
        "id": "QihLzmEx1klr"
      }
    },
    {
      "cell_type": "code",
      "source": [
        "!pwd"
      ],
      "metadata": {
        "colab": {
          "base_uri": "https://localhost:8080/"
        },
        "id": "4LbWMGBP0hmJ",
        "outputId": "dff3487c-2359-4fd7-e121-c3713d549dd0"
      },
      "execution_count": null,
      "outputs": [
        {
          "output_type": "stream",
          "name": "stdout",
          "text": [
            "/content\n"
          ]
        }
      ]
    },
    {
      "cell_type": "code",
      "source": [
        "import os\n",
        "current_dir = os.popen('pwd').read().strip()\n",
        "os.environ['KAGGLE_CONFIG_DIR'] = current_dir"
      ],
      "metadata": {
        "id": "wBk-GJlf1_Og"
      },
      "execution_count": null,
      "outputs": []
    },
    {
      "cell_type": "code",
      "source": [
        "# Download dataset\n",
        "\n",
        "#!chmod 600 /content/kaggle.json # uncomment to set API key to unreadable\n",
        "!kaggle datasets download -d awsaf49/brats20-dataset-training-validation"
      ],
      "metadata": {
        "colab": {
          "base_uri": "https://localhost:8080/"
        },
        "id": "DFYYUIgX3aCq",
        "outputId": "dc8413cc-694f-44da-c7af-cef7777f05a8"
      },
      "execution_count": null,
      "outputs": [
        {
          "output_type": "stream",
          "name": "stdout",
          "text": [
            "Warning: Your Kaggle API key is readable by other users on this system! To fix this, you can run 'chmod 600 /content/kaggle.json'\n",
            "Downloading brats20-dataset-training-validation.zip to /content\n",
            "100% 4.16G/4.16G [00:31<00:00, 155MB/s]\n",
            "100% 4.16G/4.16G [00:31<00:00, 141MB/s]\n"
          ]
        }
      ]
    },
    {
      "cell_type": "code",
      "source": [
        "# Unizp imported dateset\n",
        "!unzip brats20-dataset-training-validation.zip &> /dev/null # &> /dev/null to not prompt the output"
      ],
      "metadata": {
        "id": "yNOYFKZ29WGP"
      },
      "execution_count": null,
      "outputs": []
    },
    {
      "cell_type": "code",
      "source": [
        "# Rename a specific file with a typo in the 355 patient folder (TrainingData, patient 355, segmentation file)\n",
        "os.rename(\"/content/BraTS2020_TrainingData/MICCAI_BraTS2020_TrainingData/BraTS20_Training_355/W39_1998.09.19_Segm.nii\",\n",
        "          \"/content/BraTS2020_TrainingData/MICCAI_BraTS2020_TrainingData/BraTS20_Training_355/BraTS20_Training_355_seg.nii\")"
      ],
      "metadata": {
        "id": "vsD68OXD_r5b"
      },
      "execution_count": null,
      "outputs": []
    },
    {
      "cell_type": "markdown",
      "source": [
        "## **Loading/Visualizing our data**\n",
        "\n",
        "#### To begin with let's get familiar with the data we are working with :\n",
        "\n",
        "* The features (inputs)\n",
        "\n",
        "    *  Brain scans (IRMs) are generally made of 4 sequences (Flair, T1, T1CE, T2).\n",
        "        - **Flair** : Fluid Attenuated Inversion Recovery\n",
        "        - **T1** : bla\n",
        "        - **T1CE** : bla\n",
        "        - **T2** : bla\n",
        "    * Each chanel being a 3D image (X, Y, Z). A 3D image of a brain is commonly called a voxel.\n",
        "\n",
        "* The labels (outputs)\n",
        "\n",
        "    * 3D images called masks, that represents the tumor in a brain.\n",
        "    * The integer values in this array indicate the \"classified label\" for each voxel in the corresponding image files:\n",
        "\n",
        "        - 0: background\n",
        "        - 1: edema\n",
        "        - 2: non-enhancing tumor\n",
        "        - 3: N/A\n",
        "        - 4: enhancing tumor\n",
        "    * Replace label 4 by 3 because 3 by default is empty in the processing step."
      ],
      "metadata": {
        "id": "2dgkqYCjDXAE"
      }
    },
    {
      "cell_type": "markdown",
      "source": [
        "#### Loading an image into an array"
      ],
      "metadata": {
        "id": "HdcZWDvap_7F"
      }
    },
    {
      "cell_type": "code",
      "source": [
        "def loadImage(filename=None):\n",
        "\t\"\"\"\n",
        "\tLoad a brain IRM or npy array \n",
        "\t\"\"\"\n",
        "\n",
        "\tif filename == None:\n",
        "\t\tprint(\"Make sure to enter an image filename\")\n",
        "\t\treturn -1\n",
        "\n",
        "\t# Load inputs data\n",
        "\tif filename.split('.')[-1] == 'mha':\n",
        "\t\tprint(\"Input file: mha\")\n",
        "\t\timage_data, image_header = medpy.io.load(filename)\n",
        "\telif filename.split('.')[-1] == 'nii' or 'nii' + filename.split('.')[-1] == 'niigz':\n",
        "\t\tprint(\"Input file: nii\")\n",
        "\t\timage_data = nib.load(filename).get_fdata()\n",
        "\telif filename.split('.')[-1] == 'npy':\n",
        "\t\tprint(\"Input file: numpy array\")\n",
        "\t\timage_data = np.load(\"filename\")\n",
        "\telse:\n",
        "\t\tprint(\"Make sure to enter a supported file extension (.mha / .nii / .nii.gz)\")\n",
        "\t\treturn -1\n",
        "\n",
        "\tprint(\"File information:\")\n",
        "\tprint(\"Shape: {}\".format(image_data.shape))\n",
        " \n",
        "\treturn image_data"
      ],
      "metadata": {
        "id": "A-ZvkTyqqGth"
      },
      "execution_count": null,
      "outputs": []
    },
    {
      "cell_type": "markdown",
      "source": [
        "#### Simple 2D plotting"
      ],
      "metadata": {
        "id": "xmIgpnGuA9CS"
      }
    },
    {
      "cell_type": "code",
      "source": [
        "def display2D(image_filename=None, seg_filename=None, image_color_map='bone', seg_color_map='jet', seg_alpha=0.5):\n",
        "    \"\"\"\n",
        "    Displays random cut random layer for a given 1 sequence voxel\n",
        "    \"\"\"\n",
        "\n",
        "    image_data = loadImage(image_filename)\n",
        "    if len(image_data) < 0:\n",
        "        # Return value of loadign image < 0 -> error occurred\n",
        "        return -1\n",
        "\n",
        "    if seg_filename:\n",
        "        seg_data = loadImage(seg_filename)\n",
        "        if image_data.shape != seg_data.shape:\n",
        "            print(\"Image data and Segmentation data do not have the same shape {}!={}\".format(image_data.shape, seg_data.shape))\n",
        "            return -1\n",
        "        if len(seg_data) < 0:\n",
        "            return -1\n",
        "        \n",
        "        fig, ax = plt.subplots(1, 2)\n",
        "        \n",
        "    \n",
        "    cut = random.randint(0, 2)\n",
        "\n",
        "    if cut == 0:\n",
        "        index = random.randint(0, image_data.shape[cut])\n",
        "        if seg_filename:\n",
        "            ax[0].set_title(\"YZ cut | layer: {}\".format(index))\n",
        "            ax[1].set_title(\"Segmentation/Mask\")\n",
        "            ax[0].imshow(image_data[index, :, :], cmap=image_color_map)\n",
        "            ax[1].imshow(seg_data[index, :, :], cmap=seg_color_map)\n",
        "        else:\n",
        "            plt.title(\"YZ cut | layer: {}\".format(index))\n",
        "            plt.imshow(image_data[index, :, :], cmap=image_color_map)\n",
        "\n",
        "    elif cut == 1:\n",
        "        index = random.randint(0, image_data.shape[cut])\n",
        "        if seg_filename:\n",
        "            ax[0].set_title(\"XZ cut | layer: {}\".format(index))\n",
        "            ax[1].set_title(\"Segmentation/Mask\")\n",
        "            ax[0].imshow(image_data[:, index, :], cmap=image_color_map)\n",
        "            ax[1].imshow(seg_data[:, index, :], cmap=seg_color_map)\n",
        "        else:\n",
        "            plt.title(\"XZ cut | layer: {}\".format(index))\n",
        "            plt.imshow(image_data[:, index, :], cmap=image_color_map)\n",
        "\n",
        "    elif cut == 2:\n",
        "        index = random.randint(0, image_data.shape[cut])\n",
        "        if seg_filename:\n",
        "            ax[0].set_title(\"XY cut | layer: {}\".format(index))\n",
        "            ax[1].set_title(\"Segmentation/Mask\")\n",
        "            ax[0].imshow(image_data[:, :, index], cmap=image_color_map)\n",
        "            ax[1].imshow(seg_data[:, :, index], cmap=seg_color_map)\n",
        "        else:\n",
        "            plt.title(\"XY cut | layer: {}\".format(index))\n",
        "            plt.imshow(image_data[:, :, index], cmap=image_color_map)\n",
        "    else:\n",
        "        print(\"Something went wrong\")\n",
        "    "
      ],
      "metadata": {
        "id": "hOh59R_wBBgf"
      },
      "execution_count": null,
      "outputs": []
    },
    {
      "cell_type": "code",
      "source": [
        "PATIENT = \"002\"\n",
        "SEQUENCE = \"t1ce\"\n",
        "image_path = \"/content/BraTS2020_TrainingData/MICCAI_BraTS2020_TrainingData/BraTS20_Training_{}/BraTS20_Training_{}_{}.nii\".format(PATIENT, PATIENT, SEQUENCE)\n",
        "seg_path = \"/content/BraTS2020_TrainingData/MICCAI_BraTS2020_TrainingData/BraTS20_Training_{}/BraTS20_Training_{}_seg.nii\".format(PATIENT, PATIENT)\n",
        "display2D(image_path, seg_path)"
      ],
      "metadata": {
        "colab": {
          "base_uri": "https://localhost:8080/",
          "height": 320
        },
        "id": "xVoZWN8bDutF",
        "outputId": "f7bf7e0e-ae22-491c-95fe-78286025326b"
      },
      "execution_count": null,
      "outputs": [
        {
          "output_type": "stream",
          "name": "stdout",
          "text": [
            "Input file: nii\n",
            "File information:\n",
            "Shape: (240, 240, 155)\n",
            "Input file: nii\n",
            "File information:\n",
            "Shape: (240, 240, 155)\n"
          ]
        },
        {
          "output_type": "display_data",
          "data": {
            "text/plain": [
              "<Figure size 432x288 with 2 Axes>"
            ],
            "image/png": "[encoded data removed]"
          },
          "metadata": {
            "needs_background": "light"
          }
        }
      ]
    },
    {
      "cell_type": "markdown",
      "source": [
        "### Full 3D IRM display of a brain\n",
        "\n",
        "To get a better overall view of the brain we should implement a function that gives us the posibility to look at every slice of the brain from any cut (angle) given.\n",
        "\n",
        "In medical terms:\n",
        "* Horizontal Cut (XY)\n",
        "* Coronal Cut (XZ)\n",
        "* Sagittal Cut (YZ)\n",
        "\n",
        ">  **⚠️ Input shape should be (X, Y, Z)** (chose between flair, t1, t1ce and t2 for image_filename, and segmentation (seg) for seg_filename)\n",
        "\n",
        "To be implemented -> interactive choice of chanel\n",
        "\n"
      ],
      "metadata": {
        "id": "Z52sHC8IBDuU"
      }
    },
    {
      "cell_type": "code",
      "source": [
        "# Display IRM\n",
        "\n",
        "def display3DCuts(image_filename=None, seg_filename=None, image_color_map='bone', seg_color_map='jet', seg_alpha=0.5):\n",
        "\n",
        "\n",
        "\t# Loading image files\n",
        "\n",
        "    image_data = loadImage(image_filename)\n",
        "    if len(image_data) < 0:\n",
        "        # Return value of loadign image < 0 -> error occurred\n",
        "        return -1\n",
        "\n",
        "    if seg_filename:\n",
        "        seg_data = loadImage(seg_filename)\n",
        "        if image_data.shape != seg_data.shape:\n",
        "            print(\"Image data and Segmentation data do not have the same shape {}!={}\".format(image_data.shape, seg_data.shape))\n",
        "            return -1\n",
        "        if len(seg_data) < 0:\n",
        "            return -1\n",
        "\n",
        "    # Plot with 3 Columns\n",
        "    fig, ax = plt.subplots(1, 3)\n",
        "    plt.subplots_adjust(bottom=0.25)\n",
        "\n",
        "    # Create layers to place widgets\n",
        "    axlayer_X = plt.axes([0.25, 0.2, 0.30, 0.03])\n",
        "    axlayer_Y = plt.axes([0.25, 0.15, 0.30, 0.03])\n",
        "    axlayer_Z = plt.axes([0.25, 0.1, 0.30, 0.03])\n",
        "\n",
        "    # Get aprox the middle images for each of X Y Z\n",
        "    half_X = ceil((image_data.shape[0] - 1)/2)\n",
        "    half_Y = ceil((image_data.shape[1] - 1)/2)\n",
        "    half_Z = ceil((image_data.shape[2] - 1)/2)\n",
        "\n",
        "    # Create Slider for each cut\n",
        "    slider_X = Slider(axlayer_X, \"Sagittal Cut\", 0, image_data.shape[0] - 1, valinit=half_X, valstep=1)\n",
        "    slider_Y = Slider(axlayer_Y, \"Coronal Cut\", 0, image_data.shape[1] - 1, valinit=half_Y, valstep=1)\n",
        "    slider_Z = Slider(axlayer_Z, \"Horizontal Cut\", 0, image_data.shape[2] - 1, valinit=half_Z, valstep=1)\n",
        "\n",
        "    # Set title for each ax\n",
        "    ax[0].set_title(\"{}/{}\".format(half_X, image_data.shape[0] - 1))\n",
        "    ax[1].set_title(\"{}/{}\".format(half_Y, image_data.shape[1] - 1))\n",
        "    ax[2].set_title(\"{}/{}\".format(half_Z, image_data.shape[2] - 1))\n",
        "\n",
        "    # Update function for each respective slider and it's plot\n",
        "    def update_X(val):\n",
        "        layer = slider_X.val\n",
        "        ax[0].imshow(image_data[layer,:,:], cmap=image_color_map)\n",
        "        if seg_filename:\n",
        "            ax[0].imshow(seg_data[layer,:,:], cmap=seg_color_map, alpha=seg_alpha*(seg_data[layer,:,:]>0))\n",
        "        ax[0].set_title(\"{}/{}\".format(layer, image_data.shape[0] - 1))\n",
        "        fig.canvas.draw_idle()\n",
        "\n",
        "    def update_Y(val):\n",
        "        layer = slider_Y.val\n",
        "        ax[1].imshow(image_data[:,layer,:], cmap=image_color_map)\n",
        "        if seg_filename:\n",
        "            ax[1].imshow(seg_data[:,layer,:], cmap=seg_color_map, alpha=seg_alpha*(seg_data[:,layer,:]>0))\n",
        "        ax[1].set_title(\"{}/{}\".format(layer, image_data.shape[1] - 1))\n",
        "        fig.canvas.draw_idle()\n",
        "\n",
        "    def update_Z(val):\n",
        "        layer = slider_Z.val\n",
        "        ax[2].imshow(image_data[:,:,layer], cmap=image_color_map)\n",
        "        if seg_filename:\n",
        "            ax[2].imshow(seg_data[:,:,layer], cmap=seg_color_map, alpha=seg_alpha*(seg_data[:,:,layer]>0))\n",
        "        ax[2].set_title(\"{}/{}\".format(layer, image_data.shape[2] - 1))\n",
        "        fig.canvas.draw_idle()\n",
        "\n",
        "    # Update plot when detected interaction with slider\n",
        "    slider_X.on_changed(update_X)\n",
        "    slider_Y.on_changed(update_Y)\n",
        "    slider_Z.on_changed(update_Z)\n",
        "\n",
        "    # First display\n",
        "    ax[0].imshow(image_data[half_X,:,:], cmap=image_color_map)\n",
        "    ax[1].imshow(image_data[:,half_Y,:], cmap=image_color_map)\n",
        "    ax[2].imshow(image_data[:,:,half_Z], cmap=image_color_map)\n",
        "    if seg_filename:\n",
        "        ax[0].imshow(seg_data[half_X,:,:], cmap=seg_color_map, alpha=seg_alpha*(seg_data[half_X,:,:]>0))\n",
        "        ax[1].imshow(seg_data[:,half_Y,:], cmap=seg_color_map, alpha=seg_alpha*(seg_data[:,half_Y,:]>0))\n",
        "        ax[2].imshow(seg_data[:,:,half_Z], cmap=seg_color_map, alpha=seg_alpha*(seg_data[:,:,half_Z]>0))\n",
        "\n",
        "    # Turn off all of the axis\n",
        "    ax[0].axis('off')\n",
        "    ax[1].axis('off')\n",
        "    ax[2].axis('off')\n",
        "\n",
        "    # Show plot\n",
        "    plt.show()\n"
      ],
      "metadata": {
        "id": "V4nvPfU67H28"
      },
      "execution_count": null,
      "outputs": []
    },
    {
      "cell_type": "code",
      "source": [
        "display3DCuts(image_path, seg_path) # Due to colab not being interactive with matplotlib interactive ploting not working for the moment"
      ],
      "metadata": {
        "colab": {
          "base_uri": "https://localhost:8080/",
          "height": 365
        },
        "id": "c4BZXTm7Q_pp",
        "outputId": "af3319dd-98a9-43ca-ff95-fa29ba690f0b"
      },
      "execution_count": null,
      "outputs": [
        {
          "output_type": "stream",
          "name": "stdout",
          "text": [
            "Input file: nii\n",
            "File information:\n",
            "Shape: (240, 240, 155)\n",
            "Input file: nii\n",
            "File information:\n",
            "Shape: (240, 240, 155)\n"
          ]
        },
        {
          "output_type": "display_data",
          "data": {
            "text/plain": [
              "<Figure size 432x288 with 6 Axes>"
            ],
            "image/png": "[encoded data removed]"
          },
          "metadata": {
            "needs_background": "light"
          }
        }
      ]
    },
    {
      "cell_type": "markdown",
      "source": [
        "## Data processing\n",
        "\n",
        "* Rescale the data we are working with\n",
        "\n",
        "* Lots of infromation are not helpful and can lead to biases in our neural networks.\n",
        "\n",
        "    * The data given contains 4 sequence as mentionned above. Knowing that the T1ce is a contrast-enhanced version of the T1 we can get rid of the T1 sequence.\n",
        "    * Empty (black) portions of the scans : reduce the shape of the data from 255x255x155 to 128x128x128 to \"crop\" the images taking out all the blanc usless information (less computing time + less bias for the Neural Network).\n",
        "\n",
        "* Input shape of the model\n",
        "    * S being the number of sequences: (X, Y, Z, S) -> (128, 128, 128, 3)\n",
        "\n",
        "* Output shape of the model\n",
        "    * (X, Y, Z) -> (128, 128, 128) "
      ],
      "metadata": {
        "id": "QmdrK1vEBLTn"
      }
    },
    {
      "cell_type": "code",
      "source": [
        "from tensorflow.keras.utils import to_categorical\n",
        "import glob\n",
        "from sklearn.preprocessing import MinMaxScaler\n",
        "\n",
        "# Init a MinMaxScaler\n",
        "scaler = MinMaxScaler()"
      ],
      "metadata": {
        "id": "ITwii1HW7uKA"
      },
      "execution_count": null,
      "outputs": []
    },
    {
      "cell_type": "markdown",
      "source": [
        "### Process feature images (Brain)\n",
        "\n",
        "Four step process:\n",
        "* Scale each eequence array\n",
        "* Combine 3 of the 4 sequence given (Flair, T1CE and T2) into one array\n",
        "* Reshape/Crop it \n",
        "* Save it as a numpy array (`.npy`)\n",
        "\n",
        "Getting a final result of a (128, 128, 128, 3) array  "
      ],
      "metadata": {
        "id": "IVpasTk-BOZJ"
      }
    },
    {
      "cell_type": "code",
      "source": [
        "def process_images(patient_dir_path, processed_path=\"\"):\n",
        "    \"\"\"\n",
        "    Stacking three 1 chanel IRMs into one 3 chanel IRM and scaling each image values from 0 to 1\n",
        "    Then croping it to 128x128x128 images.\n",
        "    Saving it as a numpy array .npy\n",
        "    \"\"\"\n",
        "\n",
        "    patient = patient_dir_path.split('/')[-1]\n",
        "\n",
        "    image_flair = nib.load(os.path.join(patient_dir_path, \"{}_flair.nii\".format(patient))).get_fdata()\n",
        "    image_flair = scaler.fit_transform(image_flair.reshape(-1, image_flair.shape[-1])).reshape(image_flair.shape)\n",
        "\n",
        "    \"\"\"\n",
        "    # The data extracted from t1 chanels are not useful\n",
        "    test_image_t1 = nib.load(os.path.join(patient_dir_path, \"{}/{}_t1.nii\".format(patient, patient))).get_fdata()\n",
        "    test_image_t1 = scaler.fit_transform(test_image_t1.reshape(-1, test_image_t1.shape[-1])).reshape(test_image_t1.shape)\n",
        "    \"\"\"\n",
        "\n",
        "    image_t1ce = nib.load(os.path.join(patient_dir_path, \"{}_t1ce.nii\".format(patient))).get_fdata()\n",
        "    image_t1ce = scaler.fit_transform(image_t1ce.reshape(-1, image_t1ce.shape[-1])).reshape(image_t1ce.shape)\n",
        "\n",
        "    image_t2 = nib.load(os.path.join(patient_dir_path, \"{}_t2.nii\".format(patient))).get_fdata()\n",
        "    image_t2 = scaler.fit_transform(image_t2.reshape(-1, image_t2.shape[-1])).reshape(image_t2.shape)\n",
        "\n",
        "    # Stack 3 most important channel into 1 numpy array to feed the U-Net\n",
        "    resulting_image = np.stack([image_flair,\n",
        "            image_t1ce,\n",
        "            image_t2], axis=3)\n",
        "\n",
        "    # Crop the image to 128x128x128\n",
        "    resulting_image = resulting_image[56:184, 56:184, 13:141] # Shape 128x128x128x3 (x4 if t1 included)\n",
        "\n",
        "    np.save(os.path.join(processed_path, \"image\", patient+\".npy\"), resulting_image)"
      ],
      "metadata": {
        "id": "42OkhY9s74M4"
      },
      "execution_count": null,
      "outputs": []
    },
    {
      "cell_type": "markdown",
      "source": [
        "### Process label images (Mask)"
      ],
      "metadata": {
        "id": "kVAHG-bqBidw"
      }
    },
    {
      "cell_type": "code",
      "source": [
        "def process_mask(patient_dir_path, processed_path=\"\"):\n",
        "    \"\"\" \n",
        "    Mask relabeling 4 -> 3 (label 3 is empty)\n",
        "    Then croping it to 128x128x128 images, taking out all the blanc usless information (less computing time + less bias for the Neural Network)\n",
        "    Ratio thing usless for now then Saving it as a numpy array .npy\n",
        "    \"\"\"\n",
        "\n",
        "    patient = patient_dir_path.split('/')[-1]\n",
        "\n",
        "    mask = nib.load(os.path.join(patient_dir_path, \"{}_seg.nii\".format(patient))).get_fdata()\n",
        "    mask = mask.astype(np.uint8)\n",
        "    \n",
        "    # Change the label 4 to 3\n",
        "    mask[mask==4] = 3 \n",
        "    mask = mask[56:184, 56:184, 13:141] # Shape 128x128x128\n",
        "    \n",
        "    ratio = 0.01\n",
        "    # Select only images with more then ratio percentage of mask image\n",
        "    val, counts = np.unique(mask, return_counts=True)\n",
        "    if (1 - (counts[0] / counts.sum()))  > ratio:\n",
        "        mask = to_categorical(mask, num_classes=4)\n",
        "        np.save(os.path.join(processed_path, \"mask\", patient+\".npy\"), mask)\n",
        "        return True\n",
        "    return False"
      ],
      "metadata": {
        "id": "5qzoEWn889Y5"
      },
      "execution_count": null,
      "outputs": []
    },
    {
      "cell_type": "markdown",
      "source": [
        "### Process patient"
      ],
      "metadata": {
        "id": "Vu1FQEH_Bnj-"
      }
    },
    {
      "cell_type": "code",
      "source": [
        "def process_patient(patient_dir_path, processed_path=\"\"):\n",
        "    \"\"\"\n",
        "    Processes the images and the mask of a single patient by calling above functions\n",
        "    \"\"\"\n",
        "\n",
        "    if process_mask(patient_dir_path, processed_path):\n",
        "        process_images(patient_dir_path, processed_path)"
      ],
      "metadata": {
        "id": "jzGmsMw-9w0C"
      },
      "execution_count": null,
      "outputs": []
    },
    {
      "cell_type": "markdown",
      "source": [
        "### Process dataset"
      ],
      "metadata": {
        "id": "RQ9yflTnA8Ao"
      }
    },
    {
      "cell_type": "code",
      "source": [
        "def process_dataset(dataset_path=None, processed_path=\"training_processed\"):\n",
        "    \"\"\"\n",
        "    Process an entire dataset with a specific schema\n",
        "    \"\"\"\n",
        "    \n",
        "    if dataset_path is None:\n",
        "        print(\"Please enter a dataset path\")\n",
        "        return -1\n",
        "\n",
        "    # Create the folders in which fill the processed images following schema:\n",
        "    \"\"\" training_processed/\n",
        "    ├─ images/\n",
        "    │  ├─ BraTS20_Training_001.npy\n",
        "    │  ├─ BraTS20_Training_002.npy\n",
        "    │  ├─ BraTS20_Training_XXX.npy\n",
        "    │  ├─ BraTS20_Training_YYY.npy\n",
        "    ├─ mask/\n",
        "    │  ├─ BraTS20_Training_001.npy\n",
        "    │  ├─ BraTS20_Training_002.npy\n",
        "    │  ├─ BraTS20_Training_XXX.npy\n",
        "    │  ├─ BraTS20_Training_YYY.npy\n",
        "    \"\"\"\n",
        "    os.mkdir(processed_path)\n",
        "    os.mkdir(processed_path+\"/image\")\n",
        "    os.mkdir(processed_path+\"/mask\")\n",
        "\n",
        "    # Processes each patient in the original dataset\n",
        "    for dirname, patients, filenames in os.walk(dataset_path):\n",
        "        for patient in patients: \n",
        "            process_patient(os.path.join(dirname, patient), processed_path)"
      ],
      "metadata": {
        "id": "oA-o9sXh91ii"
      },
      "execution_count": null,
      "outputs": []
    }
  ]
}